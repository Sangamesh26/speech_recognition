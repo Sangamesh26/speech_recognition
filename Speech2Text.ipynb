{
 "cells": [
  {
   "cell_type": "code",
   "execution_count": 7,
   "metadata": {},
   "outputs": [
    {
     "name": "stdout",
     "output_type": "stream",
     "text": [
      "Audio please :: \n",
      "Your audio was ::  hello\n"
     ]
    }
   ],
   "source": [
    "import speech_recognition as sr\n",
    "rec=sr.Recognizer()\n",
    "with sr.Microphone() as source:\n",
    "    print(\"Audio please :: \")\n",
    "    audio=rec.listen(source)\n",
    "    try:\n",
    "        text=rec.recognize_google(audio)\n",
    "        print(\"Your audio was :: \", text)\n",
    "    except:\n",
    "        print(\"Not recognized\")"
   ]
  },
  {
   "cell_type": "code",
   "execution_count": null,
   "metadata": {},
   "outputs": [],
   "source": []
  }
 ],
 "metadata": {
  "kernelspec": {
   "display_name": "Python 3",
   "language": "python",
   "name": "python3"
  },
  "language_info": {
   "codemirror_mode": {
    "name": "ipython",
    "version": 3
   },
   "file_extension": ".py",
   "mimetype": "text/x-python",
   "name": "python",
   "nbconvert_exporter": "python",
   "pygments_lexer": "ipython3",
   "version": "3.7.6"
  }
 },
 "nbformat": 4,
 "nbformat_minor": 4
}
